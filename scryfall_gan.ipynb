{
  "nbformat": 4,
  "nbformat_minor": 0,
  "metadata": {
    "colab": {
      "name": "scryfall.ipynb",
      "provenance": [],
      "authorship_tag": "ABX9TyMJeP2jvHa6TW7oQtUGj/kG"
    },
    "kernelspec": {
      "name": "python3",
      "display_name": "Python 3"
    },
    "accelerator": "GPU"
  },
  "cells": [
    {
      "cell_type": "markdown",
      "metadata": {
        "id": "tXod4f8EqFvv",
        "colab_type": "text"
      },
      "source": [
        "A bit of setup code, for importing TensorFlow and implementing a keras GAN\n",
        "Also connecting to drive so we can use the data"
      ]
    },
    {
      "cell_type": "code",
      "metadata": {
        "id": "ra9YuRWvoRHI",
        "colab_type": "code",
        "colab": {
          "base_uri": "https://localhost:8080/",
          "height": 54
        },
        "outputId": "92bb318f-5b42-4c62-a738-043bbfcd3c5d"
      },
      "source": [
        "import tensorflow as tf\n",
        "from tensorflow.keras.layers import Input, Reshape, Dropout, Dense \n",
        "from tensorflow.keras.layers import Flatten, BatchNormalization\n",
        "from tensorflow.keras.layers import Activation, ZeroPadding2D\n",
        "from tensorflow.keras.layers import LeakyReLU\n",
        "from tensorflow.keras.layers import UpSampling2D, Conv2D\n",
        "from tensorflow.keras.models import Sequential, Model, load_model\n",
        "from tensorflow.keras.optimizers import Adam\n",
        "import glob\n",
        "import imageio\n",
        "from IPython import display\n",
        "import numpy as np\n",
        "from PIL import Image\n",
        "from tqdm import tqdm\n",
        "import os \n",
        "import time\n",
        "import matplotlib.pyplot as plt\n",
        "\n",
        "try:\n",
        "    from google.colab import drive\n",
        "    drive.mount('/content/drive', force_remount=True)\n",
        "    COLAB = True\n",
        "    print(\"Note: using Google CoLab\")\n",
        "    %tensorflow_version 2.x\n",
        "except:\n",
        "    print(\"Note: not using Google CoLab\")\n",
        "    COLAB = False"
      ],
      "execution_count": 34,
      "outputs": [
        {
          "output_type": "stream",
          "text": [
            "Mounted at /content/drive\n",
            "Note: using Google CoLab\n"
          ],
          "name": "stdout"
        }
      ]
    },
    {
      "cell_type": "markdown",
      "metadata": {
        "id": "iNlXbohqqUhp",
        "colab_type": "text"
      },
      "source": [
        "Now I'll load the data from google drive and setup some constants. The drive location of the dataset will be DATA_PATH. I won't share the dataset itself, but the code needed to automatically download it can be found here: https://github.com/RaesakAce/scryfall-analysis"
      ]
    },
    {
      "cell_type": "code",
      "metadata": {
        "id": "fxKz6CL0uJ_V",
        "colab_type": "code",
        "colab": {
          "base_uri": "https://localhost:8080/",
          "height": 35
        },
        "outputId": "65d7dc00-486a-4b67-d3ab-97401f448fd8"
      },
      "source": [
        " \n",
        "# Training data is also scaled to this.\n",
        "# Note GENERATE_RES 4 or higher  \n",
        "# will blow Google CoLab's memory and have not\n",
        "# been tested extensivly.\n",
        "GENERATE_RES = 1 # Generation resolution factor \n",
        "# (1=32, 2=64, 3=96, 4=128, etc.)\n",
        "GENERATE_SQUARE = 32 * GENERATE_RES # rows/cols (should be square)\n",
        "IMAGE_CHANNELS = 3\n",
        "\n",
        "# Preview image \n",
        "PREVIEW_ROWS = 4\n",
        "PREVIEW_COLS = 7\n",
        "PREVIEW_MARGIN = 16\n",
        "\n",
        "# Size vector to generate images from\n",
        "SEED_SIZE = 100\n",
        "\n",
        "# Configuration\n",
        "DATA_PATH = '/content/drive/My Drive/scryfall-analysis/data_images'\n",
        "EPOCHS = 50\n",
        "BATCH_SIZE = 32\n",
        "BUFFER_SIZE = 60000\n",
        "\n",
        "print(f\"Will generate {GENERATE_SQUARE}px square images.\")\n",
        "\n"
      ],
      "execution_count": 35,
      "outputs": [
        {
          "output_type": "stream",
          "text": [
            "Will generate 32px square images.\n"
          ],
          "name": "stdout"
        }
      ]
    },
    {
      "cell_type": "markdown",
      "metadata": {
        "id": "L269AKGD1zbT",
        "colab_type": "text"
      },
      "source": [
        "Here we transform the images in a numpy binary. The file is pretty big even with the resizing, and loading about 20000 images takes time, so if we don't cache the binary, it will be a long process loading everything every time."
      ]
    },
    {
      "cell_type": "code",
      "metadata": {
        "id": "k3d2_SfPwwRI",
        "colab_type": "code",
        "colab": {
          "base_uri": "https://localhost:8080/",
          "height": 54
        },
        "outputId": "23d61c04-6704-407b-e445-f26e917b8d1c"
      },
      "source": [
        "def hms_string(sec_elapsed):\n",
        "    h = int(sec_elapsed / (60 * 60))\n",
        "    m = int((sec_elapsed % (60 * 60)) / 60)\n",
        "    s = sec_elapsed % 60\n",
        "    return \"{}:{:>02}:{:>05.2f}\".format(h, m, s)\n",
        "\n",
        "training_binary_path = os.path.join(DATA_PATH,\n",
        "        f'training_data_{GENERATE_SQUARE}_{GENERATE_SQUARE}.npy')\n",
        "\n",
        "print(f\"Looking for file: {training_binary_path}\")\n",
        "\n",
        "if not os.path.isfile(training_binary_path):                      \n",
        "  start = time.time()\n",
        "  print(\"Loading training images...\")\n",
        "\n",
        "  training_data = []\n",
        "  images_path = os.path.join(DATA_PATH,'jpegs')\n",
        "  for filename in tqdm(os.listdir(images_path)):\n",
        "      path = os.path.join(images_path,filename)\n",
        "      image = Image.open(path)\n",
        "      width, height = image.size\n",
        "      image = image.crop((height/1.363,0,height/1.363,0))\n",
        "      image = image.resize((GENERATE_SQUARE,GENERATE_SQUARE),Image.ANTIALIAS)                                                     \n",
        "      training_data.append(np.asarray(image))\n",
        "  training_data = np.reshape(training_data,(-1,GENERATE_SQUARE,\n",
        "            GENERATE_SQUARE,IMAGE_CHANNELS))\n",
        "  training_data = training_data.astype(np.float32)\n",
        "  training_data = training_data / 127.5 - 1.\n",
        "\n",
        "\n",
        "  print(\"Saving training image binary...\")\n",
        "  np.save(training_binary_path,training_data)\n",
        "  elapsed = time.time()-start\n",
        "  print (f'Image preprocess time: {hms_string(elapsed)}')\n",
        "else:\n",
        "  print(\"Loading previous training data...\")\n",
        "  training_data = np.load(training_binary_path)"
      ],
      "execution_count": 36,
      "outputs": [
        {
          "output_type": "stream",
          "text": [
            "Looking for file: /content/drive/My Drive/scryfall-analysis/data_images/training_data_32_32.npy\n",
            "Loading previous training data...\n"
          ],
          "name": "stdout"
        }
      ]
    },
    {
      "cell_type": "code",
      "metadata": {
        "id": "9XRT3EFD21ke",
        "colab_type": "code",
        "colab": {}
      },
      "source": [
        "# Batch and shuffle the data\n",
        "train_dataset = tf.data.Dataset.from_tensor_slices(training_data).shuffle(BUFFER_SIZE).batch(BATCH_SIZE)"
      ],
      "execution_count": 37,
      "outputs": []
    },
    {
      "cell_type": "markdown",
      "metadata": {
        "id": "ahMfiH_34okT",
        "colab_type": "text"
      },
      "source": [
        "Now implementing the actual GAN, defining the functions for creating the discriminator and the generator"
      ]
    },
    {
      "cell_type": "code",
      "metadata": {
        "id": "ZiKvd5zV470G",
        "colab_type": "code",
        "colab": {}
      },
      "source": [
        "def build_generator(seed_size, channels):\n",
        "    model = Sequential()\n",
        "\n",
        "    model.add(Dense(4*4*256,activation=\"relu\",input_dim=seed_size))\n",
        "    model.add(Reshape((4,4,256)))\n",
        "\n",
        "    model.add(UpSampling2D())\n",
        "    model.add(Conv2D(256,kernel_size=3,padding=\"same\"))\n",
        "    model.add(BatchNormalization(momentum=0.8))\n",
        "    model.add(Activation(\"relu\"))\n",
        "\n",
        "    model.add(UpSampling2D())\n",
        "    model.add(Conv2D(256,kernel_size=3,padding=\"same\"))\n",
        "    model.add(BatchNormalization(momentum=0.8))\n",
        "    model.add(Activation(\"relu\"))\n",
        "   \n",
        "    # Output resolution, additional upsampling\n",
        "    model.add(UpSampling2D())\n",
        "    model.add(Conv2D(128,kernel_size=3,padding=\"same\"))\n",
        "    model.add(BatchNormalization(momentum=0.8))\n",
        "    model.add(Activation(\"relu\"))\n",
        "\n",
        "    if GENERATE_RES>1:\n",
        "      model.add(UpSampling2D(size=(GENERATE_RES,GENERATE_RES)))\n",
        "      model.add(Conv2D(128,kernel_size=3,padding=\"same\"))\n",
        "      model.add(BatchNormalization(momentum=0.8))\n",
        "      model.add(Activation(\"relu\"))\n",
        "\n",
        "    # Final CNN layer\n",
        "    model.add(Conv2D(channels,kernel_size=3,padding=\"same\"))\n",
        "    model.add(Activation(\"tanh\"))\n",
        "\n",
        "    return model\n",
        "\n",
        "\n",
        "def build_discriminator(image_shape):\n",
        "    model = Sequential()\n",
        "\n",
        "    model.add(Conv2D(32, kernel_size=3, strides=2, input_shape=image_shape, \n",
        "                     padding=\"same\"))\n",
        "    model.add(LeakyReLU(alpha=0.2))\n",
        "\n",
        "    model.add(Dropout(0.25))\n",
        "    model.add(Conv2D(64, kernel_size=3, strides=2, padding=\"same\"))\n",
        "    model.add(ZeroPadding2D(padding=((0,1),(0,1))))\n",
        "    model.add(BatchNormalization(momentum=0.8))\n",
        "    model.add(LeakyReLU(alpha=0.2))\n",
        "\n",
        "    model.add(Dropout(0.25))\n",
        "    model.add(Conv2D(128, kernel_size=3, strides=2, padding=\"same\"))\n",
        "    model.add(BatchNormalization(momentum=0.8))\n",
        "    model.add(LeakyReLU(alpha=0.2))\n",
        "\n",
        "    model.add(Dropout(0.25))\n",
        "    model.add(Conv2D(256, kernel_size=3, strides=1, padding=\"same\"))\n",
        "    model.add(BatchNormalization(momentum=0.8))\n",
        "    model.add(LeakyReLU(alpha=0.2))\n",
        "\n",
        "    model.add(Dropout(0.25))\n",
        "    model.add(Conv2D(512, kernel_size=3, strides=1, padding=\"same\"))\n",
        "    model.add(BatchNormalization(momentum=0.8))\n",
        "    model.add(LeakyReLU(alpha=0.2))\n",
        "\n",
        "    model.add(Dropout(0.25))\n",
        "    model.add(Flatten())\n",
        "    model.add(Dense(1, activation='sigmoid'))\n",
        "\n",
        "    return model"
      ],
      "execution_count": 11,
      "outputs": []
    },
    {
      "cell_type": "markdown",
      "metadata": {
        "id": "0CQfGC045E8n",
        "colab_type": "text"
      },
      "source": [
        "This will be an function useful to track the progress"
      ]
    },
    {
      "cell_type": "code",
      "metadata": {
        "id": "TvG_nRSQ5LmZ",
        "colab_type": "code",
        "colab": {}
      },
      "source": [
        "def save_images(cnt,noise):\n",
        "  image_array = np.full(( \n",
        "      PREVIEW_MARGIN + (PREVIEW_ROWS * (GENERATE_SQUARE+PREVIEW_MARGIN)), \n",
        "      PREVIEW_MARGIN + (PREVIEW_COLS * (GENERATE_SQUARE+PREVIEW_MARGIN)), 3), \n",
        "      255, dtype=np.uint8)\n",
        "  \n",
        "  generated_images = generator.predict(noise)\n",
        "\n",
        "  generated_images = 0.5 * generated_images + 0.5\n",
        "\n",
        "  image_count = 0\n",
        "  for row in range(PREVIEW_ROWS):\n",
        "      for col in range(PREVIEW_COLS):\n",
        "        r = row * (GENERATE_SQUARE+16) + PREVIEW_MARGIN\n",
        "        c = col * (GENERATE_SQUARE+16) + PREVIEW_MARGIN\n",
        "        image_array[r:r+GENERATE_SQUARE,c:c+GENERATE_SQUARE]= generated_images[image_count] * 255\n",
        "        image_count += 1\n",
        "\n",
        "          \n",
        "  output_path = os.path.join(DATA_PATH,'output')\n",
        "  if not os.path.exists(output_path):\n",
        "    os.makedirs(output_path)\n",
        "  \n",
        "  filename = os.path.join(output_path,f\"train-{cnt}.png\")\n",
        "  im = Image.fromarray(image_array)\n",
        "  im.save(filename)\n",
        "\n"
      ],
      "execution_count": 38,
      "outputs": []
    },
    {
      "cell_type": "markdown",
      "metadata": {
        "id": "03XnKEgE5M6e",
        "colab_type": "text"
      },
      "source": [
        "Let's create the generator and the discriminator and see what they do:"
      ]
    },
    {
      "cell_type": "code",
      "metadata": {
        "id": "1qfuDdA_5Xxn",
        "colab_type": "code",
        "colab": {
          "base_uri": "https://localhost:8080/",
          "height": 284
        },
        "outputId": "559756d4-4b52-4b96-a0e5-1be4b7f005d6"
      },
      "source": [
        "generator = build_generator(SEED_SIZE, IMAGE_CHANNELS)\n",
        "\n",
        "noise = tf.random.normal([1, SEED_SIZE])\n",
        "generated_image = generator(noise, training=False)\n",
        "\n",
        "plt.imshow(generated_image[0, :, :, 0])"
      ],
      "execution_count": 39,
      "outputs": [
        {
          "output_type": "execute_result",
          "data": {
            "text/plain": [
              "<matplotlib.image.AxesImage at 0x7fa5f6afdeb8>"
            ]
          },
          "metadata": {
            "tags": []
          },
          "execution_count": 39
        },
        {
          "output_type": "display_data",
          "data": {
            "image/png": "[encoded data removed]",
            "text/plain": [
              "<Figure size 432x288 with 1 Axes>"
            ]
          },
          "metadata": {
            "tags": [],
            "needs_background": "light"
          }
        }
      ]
    },
    {
      "cell_type": "code",
      "metadata": {
        "id": "EkeD8sWh5aFm",
        "colab_type": "code",
        "colab": {
          "base_uri": "https://localhost:8080/",
          "height": 35
        },
        "outputId": "3e81d91b-acb3-4571-b0ee-8f6616c7c29d"
      },
      "source": [
        "image_shape = (GENERATE_SQUARE,GENERATE_SQUARE,IMAGE_CHANNELS)\n",
        "\n",
        "discriminator = build_discriminator(image_shape)\n",
        "decision = discriminator(generated_image)\n",
        "print (decision)"
      ],
      "execution_count": 40,
      "outputs": [
        {
          "output_type": "stream",
          "text": [
            "tf.Tensor([[0.49969888]], shape=(1, 1), dtype=float32)\n"
          ],
          "name": "stdout"
        }
      ]
    },
    {
      "cell_type": "markdown",
      "metadata": {
        "id": "SJ8XKuSUA0a5",
        "colab_type": "text"
      },
      "source": [
        "Now we have to define the loss function. We can't just use backpropagation because we cannot adjust the weight of the discriminator based on the combined results of the generator and discriminator, since this will make the discriminator become really bad in order to mainimize the generator loss function. First lets define a useful function"
      ]
    },
    {
      "cell_type": "code",
      "metadata": {
        "id": "znEsYQKy6MEi",
        "colab_type": "code",
        "colab": {}
      },
      "source": [
        "cross_entropy = tf.keras.losses.BinaryCrossentropy(from_logits=True)"
      ],
      "execution_count": 41,
      "outputs": []
    },
    {
      "cell_type": "markdown",
      "metadata": {
        "id": "gkFqdjHZBUfa",
        "colab_type": "text"
      },
      "source": [
        "This method quantifies how well the discriminator is able to distinguish real images from fakes. It compares the discriminator's predictions on real images to an array of 1s, and the discriminator's predictions on fake (generated) images to an array of 0s."
      ]
    },
    {
      "cell_type": "code",
      "metadata": {
        "id": "HOefbxRMBqyq",
        "colab_type": "code",
        "colab": {}
      },
      "source": [
        "def discriminator_loss(real_output, fake_output):\n",
        "    real_loss = cross_entropy(tf.ones_like(real_output), real_output)\n",
        "    fake_loss = cross_entropy(tf.zeros_like(fake_output), fake_output)\n",
        "    total_loss = real_loss + fake_loss\n",
        "    return total_loss"
      ],
      "execution_count": 42,
      "outputs": []
    },
    {
      "cell_type": "markdown",
      "metadata": {
        "id": "lXzaygpVBsu9",
        "colab_type": "text"
      },
      "source": [
        "Next comes the generator loss method. This method will compare the discriminators decisions on the generated images to an array of 1s."
      ]
    },
    {
      "cell_type": "code",
      "metadata": {
        "id": "SdLqMeVFCCpI",
        "colab_type": "code",
        "colab": {}
      },
      "source": [
        "def generator_loss(fake_output):\n",
        "    return cross_entropy(tf.ones_like(fake_output), fake_output)"
      ],
      "execution_count": 43,
      "outputs": []
    },
    {
      "cell_type": "markdown",
      "metadata": {
        "id": "KBNpPat0CZ3C",
        "colab_type": "text"
      },
      "source": [
        "Since they will be trained separately, generator and discriminator will use separate optimizers. We'll use Adam and we'll need to give it same learning rate and momentum"
      ]
    },
    {
      "cell_type": "code",
      "metadata": {
        "id": "wKld1WCECZVm",
        "colab_type": "code",
        "colab": {}
      },
      "source": [
        "generator_optimizer = tf.keras.optimizers.Adam(1.5e-4,0.5)\n",
        "discriminator_optimizer = tf.keras.optimizers.Adam(1.5e-4,0.5)"
      ],
      "execution_count": 44,
      "outputs": []
    },
    {
      "cell_type": "markdown",
      "metadata": {
        "id": "NFeL-PhiEJ6x",
        "colab_type": "text"
      },
      "source": [
        "This task may require a long time and be interrupted. It's useful to use checkpoints for this"
      ]
    },
    {
      "cell_type": "code",
      "metadata": {
        "id": "lWYRoxsyEh2n",
        "colab_type": "code",
        "colab": {}
      },
      "source": [
        "checkpoint_dir = os.path.join(DATA_PATH,'./training_checkpoints')\n",
        "checkpoint_prefix = os.path.join(checkpoint_dir, \"ckpt\")\n",
        "checkpoint = tf.train.Checkpoint(generator_optimizer=generator_optimizer,\n",
        "                                 discriminator_optimizer=discriminator_optimizer,\n",
        "                                 generator=generator,\n",
        "                                 discriminator=discriminator)\n"
      ],
      "execution_count": 45,
      "outputs": []
    },
    {
      "cell_type": "markdown",
      "metadata": {
        "id": "lufhBZaSFEbi",
        "colab_type": "text"
      },
      "source": [
        "The training loop begins with generator receiving a random seed as input. That seed is used to produce an image. The discriminator is then used to classify real images (drawn from the training set) and fakes images (produced by the generator). The loss is calculated for each of these models, and the gradients are used to update the generator and discriminator."
      ]
    },
    {
      "cell_type": "code",
      "metadata": {
        "id": "Fi6jqcNHFkCi",
        "colab_type": "code",
        "colab": {}
      },
      "source": [
        "# Notice the use of `tf.function`\n",
        "# This annotation causes the function to be \"compiled\".\n",
        "@tf.function\n",
        "def train_step(images):\n",
        "  seed = tf.random.normal([BATCH_SIZE, SEED_SIZE])\n",
        "\n",
        "  with tf.GradientTape() as gen_tape, tf.GradientTape() as disc_tape:\n",
        "    generated_images = generator(seed, training=True)\n",
        "\n",
        "    real_output = discriminator(images, training=True)\n",
        "    fake_output = discriminator(generated_images, training=True)\n",
        "\n",
        "    gen_loss = generator_loss(fake_output)\n",
        "    disc_loss = discriminator_loss(real_output, fake_output)\n",
        "    \n",
        "\n",
        "    gradients_of_generator = gen_tape.gradient(gen_loss, generator.trainable_variables)\n",
        "    gradients_of_discriminator = disc_tape.gradient(disc_loss, discriminator.trainable_variables)\n",
        "\n",
        "    generator_optimizer.apply_gradients(zip(gradients_of_generator, generator.trainable_variables))\n",
        "    discriminator_optimizer.apply_gradients(zip(gradients_of_discriminator, discriminator.trainable_variables))\n",
        "  return gen_loss,disc_loss"
      ],
      "execution_count": 46,
      "outputs": []
    },
    {
      "cell_type": "code",
      "metadata": {
        "id": "0HGCmsj_FukZ",
        "colab_type": "code",
        "colab": {}
      },
      "source": [
        "def train(dataset, epochs):\n",
        "  fixed_seed = np.random.normal(0, 1, (PREVIEW_ROWS * PREVIEW_COLS, SEED_SIZE))\n",
        "  start = time.time()\n",
        "\n",
        "  for epoch in range(epochs):\n",
        "    epoch_start = time.time()\n",
        "\n",
        "    gen_loss_list = []\n",
        "    disc_loss_list = []\n",
        "\n",
        "    for image_batch in dataset:\n",
        "      t = train_step(image_batch)\n",
        "      gen_loss_list.append(t[0])\n",
        "      disc_loss_list.append(t[1])\n",
        "\n",
        "    #let's save a checkpoint every 15 epochs\n",
        "    if (epoch + 1) % 15 == 0:\n",
        "      checkpoint.save(file_prefix = checkpoint_prefix)\n",
        "\n",
        "    g_loss = sum(gen_loss_list) / len(gen_loss_list)\n",
        "    d_loss = sum(disc_loss_list) / len(disc_loss_list)\n",
        "\n",
        "    epoch_elapsed = time.time()-epoch_start\n",
        "    print (f'Epoch {epoch+1}, gen loss={g_loss},disc loss={d_loss},{hms_string(epoch_elapsed)}')\n",
        "    save_images(epoch,fixed_seed)\n",
        "\n",
        "  elapsed = time.time()-start\n",
        "  print (f'Training time: {hms_string(elapsed)}')"
      ],
      "execution_count": 47,
      "outputs": []
    },
    {
      "cell_type": "markdown",
      "metadata": {
        "id": "ZntWuVN2GhHz",
        "colab_type": "text"
      },
      "source": [
        "Time to train the model!"
      ]
    },
    {
      "cell_type": "code",
      "metadata": {
        "id": "wYp9FI87GjUl",
        "colab_type": "code",
        "colab": {
          "base_uri": "https://localhost:8080/",
          "height": 960
        },
        "outputId": "3b6b1879-47fc-44f9-91ee-84fac846370a"
      },
      "source": [
        "train(train_dataset, EPOCHS)"
      ],
      "execution_count": 48,
      "outputs": [
        {
          "output_type": "stream",
          "text": [
            "Epoch 1, gen loss=0.6886562705039978,disc loss=1.3817002773284912,0:01:01.16\n",
            "Epoch 2, gen loss=0.6930481791496277,disc loss=1.3863028287887573,0:00:56.16\n",
            "Epoch 3, gen loss=0.6931366324424744,disc loss=1.3862993717193604,0:00:56.13\n",
            "Epoch 4, gen loss=0.6931430101394653,disc loss=1.3862981796264648,0:00:56.19\n",
            "Epoch 5, gen loss=0.6931460499763489,disc loss=1.3862981796264648,0:00:56.17\n",
            "Epoch 6, gen loss=0.6931484341621399,disc loss=1.386298418045044,0:00:56.18\n",
            "Epoch 7, gen loss=0.6931488513946533,disc loss=1.3862981796264648,0:00:56.14\n",
            "Epoch 8, gen loss=0.6931486129760742,disc loss=1.3862981796264648,0:00:56.14\n",
            "Epoch 9, gen loss=0.6931485533714294,disc loss=1.3862979412078857,0:00:56.26\n",
            "Epoch 10, gen loss=0.6931489109992981,disc loss=1.3862981796264648,0:00:56.26\n",
            "Epoch 11, gen loss=0.6931491494178772,disc loss=1.3862982988357544,0:00:56.24\n",
            "Epoch 12, gen loss=0.6931491494178772,disc loss=1.3862982988357544,0:00:56.23\n",
            "Epoch 13, gen loss=0.6931491494178772,disc loss=1.3862982988357544,0:00:56.22\n",
            "Epoch 14, gen loss=0.6931491494178772,disc loss=1.3862982988357544,0:00:56.18\n",
            "Epoch 15, gen loss=0.6931491494178772,disc loss=1.3862982988357544,0:00:56.45\n",
            "Epoch 16, gen loss=0.6931491494178772,disc loss=1.3862982988357544,0:00:56.21\n",
            "Epoch 17, gen loss=0.6931490898132324,disc loss=1.3862982988357544,0:00:56.24\n",
            "Epoch 18, gen loss=0.6929633021354675,disc loss=1.3863476514816284,0:00:56.20\n",
            "Epoch 19, gen loss=0.6931491494178772,disc loss=1.3862982988357544,0:00:56.31\n",
            "Epoch 20, gen loss=0.6931491494178772,disc loss=1.3862982988357544,0:00:56.22\n",
            "Epoch 21, gen loss=0.6931491494178772,disc loss=1.3862982988357544,0:00:56.28\n",
            "Epoch 22, gen loss=0.6931491494178772,disc loss=1.3862982988357544,0:00:56.22\n",
            "Epoch 23, gen loss=0.6931491494178772,disc loss=1.3862982988357544,0:00:56.22\n",
            "Epoch 24, gen loss=0.6931491494178772,disc loss=1.3862982988357544,0:00:55.80\n",
            "Epoch 25, gen loss=0.6931491494178772,disc loss=1.3862982988357544,0:00:55.92\n",
            "Epoch 26, gen loss=0.6931491494178772,disc loss=1.3862982988357544,0:00:56.16\n",
            "Epoch 27, gen loss=0.6931491494178772,disc loss=1.3862982988357544,0:00:56.20\n",
            "Epoch 28, gen loss=0.6931491494178772,disc loss=1.3862982988357544,0:00:56.18\n",
            "Epoch 29, gen loss=0.6931491494178772,disc loss=1.3862982988357544,0:00:56.15\n",
            "Epoch 30, gen loss=0.6931491494178772,disc loss=1.3862982988357544,0:00:56.47\n",
            "Epoch 31, gen loss=0.6931491494178772,disc loss=1.3862982988357544,0:00:56.12\n",
            "Epoch 32, gen loss=0.6931491494178772,disc loss=1.3862982988357544,0:00:56.18\n",
            "Epoch 33, gen loss=0.6931491494178772,disc loss=1.3862982988357544,0:00:56.11\n",
            "Epoch 34, gen loss=0.6931491494178772,disc loss=1.3862982988357544,0:00:56.11\n",
            "Epoch 35, gen loss=0.6931491494178772,disc loss=1.3862982988357544,0:00:56.10\n",
            "Epoch 36, gen loss=0.6931491494178772,disc loss=1.3862982988357544,0:00:55.91\n",
            "Epoch 37, gen loss=0.6931491494178772,disc loss=1.3862982988357544,0:00:56.08\n",
            "Epoch 38, gen loss=0.6931491494178772,disc loss=1.3862982988357544,0:00:56.15\n",
            "Epoch 39, gen loss=0.6931491494178772,disc loss=1.3862982988357544,0:00:56.15\n",
            "Epoch 40, gen loss=0.6931491494178772,disc loss=1.3862982988357544,0:00:56.13\n",
            "Epoch 41, gen loss=0.6931491494178772,disc loss=1.3862982988357544,0:00:56.18\n",
            "Epoch 42, gen loss=0.6931491494178772,disc loss=1.3862982988357544,0:00:56.19\n",
            "Epoch 43, gen loss=0.6931491494178772,disc loss=1.3862982988357544,0:00:56.19\n",
            "Epoch 44, gen loss=0.6931491494178772,disc loss=1.3862982988357544,0:00:56.19\n",
            "Epoch 45, gen loss=0.6931491494178772,disc loss=1.3862982988357544,0:00:56.41\n",
            "Epoch 46, gen loss=0.6931491494178772,disc loss=1.3862982988357544,0:00:56.14\n",
            "Epoch 47, gen loss=0.6931491494178772,disc loss=1.3862982988357544,0:00:56.12\n",
            "Epoch 48, gen loss=0.6931491494178772,disc loss=1.3862982988357544,0:00:56.18\n",
            "Epoch 49, gen loss=0.6931491494178772,disc loss=1.3862982988357544,0:00:56.19\n",
            "Epoch 50, gen loss=0.6931491494178772,disc loss=1.3862982988357544,0:00:56.19\n",
            "Training time: 0:46:57.10\n"
          ],
          "name": "stdout"
        }
      ]
    },
    {
      "cell_type": "markdown",
      "metadata": {
        "id": "NfFMz-JcGvuL",
        "colab_type": "text"
      },
      "source": [
        "In case the checkpoint is needed:"
      ]
    },
    {
      "cell_type": "code",
      "metadata": {
        "id": "BnDehR5YGtyV",
        "colab_type": "code",
        "colab": {}
      },
      "source": [
        "checkpoint.restore(tf.train.latest_checkpoint(checkpoint_dir))"
      ],
      "execution_count": null,
      "outputs": []
    },
    {
      "cell_type": "markdown",
      "metadata": {
        "id": "HxHo7OSwG607",
        "colab_type": "text"
      },
      "source": [
        "Now let's use imageio to create a gif with the training images"
      ]
    },
    {
      "cell_type": "code",
      "metadata": {
        "id": "sWvEb_hDHGb8",
        "colab_type": "code",
        "colab": {
          "base_uri": "https://localhost:8080/",
          "height": 17
        },
        "outputId": "d6722293-b3ef-4357-8745-97b4a8f1914b"
      },
      "source": [
        "anim_file = 'dcgan.gif'\n",
        "\n",
        "with imageio.get_writer(anim_file, mode='I') as writer:\n",
        "  filenames = glob.glob(os.path.join(DATA_PATH,'output','train*.png'))\n",
        "  filenames = sorted(filenames)\n",
        "  last = -1\n",
        "  for i,filename in enumerate(filenames):\n",
        "    frame = 2*(i**0.5)\n",
        "    if round(frame) > round(last):\n",
        "      last = frame\n",
        "    else:\n",
        "      continue\n",
        "    image = imageio.imread(filename)\n",
        "    writer.append_data(image)\n",
        "  image = imageio.imread(filename)\n",
        "  writer.append_data(image)\n",
        "\n",
        "import IPython\n",
        "if IPython.version_info > (6,2,0,''):\n",
        "  display.Image(filename=anim_file)\n",
        "\n",
        "try:\n",
        "  from google.colab import files\n",
        "except ImportError:\n",
        "   pass\n",
        "else:\n",
        "  files.download(anim_file)\n"
      ],
      "execution_count": 50,
      "outputs": [
        {
          "output_type": "display_data",
          "data": {
            "application/javascript": [
              "\n",
              "    async function download(id, filename, size) {\n",
              "      if (!google.colab.kernel.accessAllowed) {\n",
              "        return;\n",
              "      }\n",
              "      const div = document.createElement('div');\n",
              "      const label = document.createElement('label');\n",
              "      label.textContent = `Downloading \"${filename}\": `;\n",
              "      div.appendChild(label);\n",
              "      const progress = document.createElement('progress');\n",
              "      progress.max = size;\n",
              "      div.appendChild(progress);\n",
              "      document.body.appendChild(div);\n",
              "\n",
              "      const buffers = [];\n",
              "      let downloaded = 0;\n",
              "\n",
              "      const channel = await google.colab.kernel.comms.open(id);\n",
              "      // Send a message to notify the kernel that we're ready.\n",
              "      channel.send({})\n",
              "\n",
              "      for await (const message of channel.messages) {\n",
              "        // Send a message to notify the kernel that we're ready.\n",
              "        channel.send({})\n",
              "        if (message.buffers) {\n",
              "          for (const buffer of message.buffers) {\n",
              "            buffers.push(buffer);\n",
              "            downloaded += buffer.byteLength;\n",
              "            progress.value = downloaded;\n",
              "          }\n",
              "        }\n",
              "      }\n",
              "      const blob = new Blob(buffers, {type: 'application/binary'});\n",
              "      const a = document.createElement('a');\n",
              "      a.href = window.URL.createObjectURL(blob);\n",
              "      a.download = filename;\n",
              "      div.appendChild(a);\n",
              "      a.click();\n",
              "      div.remove();\n",
              "    }\n",
              "  "
            ],
            "text/plain": [
              "<IPython.core.display.Javascript object>"
            ]
          },
          "metadata": {
            "tags": []
          }
        },
        {
          "output_type": "display_data",
          "data": {
            "application/javascript": [
              "download(\"download_ac7446ea-e0cb-49e1-9729-436fa120b233\", \"dcgan.gif\", 591475)"
            ],
            "text/plain": [
              "<IPython.core.display.Javascript object>"
            ]
          },
          "metadata": {
            "tags": []
          }
        }
      ]
    }
  ]
}